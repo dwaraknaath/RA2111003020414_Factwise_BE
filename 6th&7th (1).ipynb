{
  "nbformat": 4,
  "nbformat_minor": 0,
  "metadata": {
    "colab": {
      "provenance": []
    },
    "kernelspec": {
      "name": "python3",
      "display_name": "Python 3"
    },
    "language_info": {
      "name": "python"
    }
  },
  "cells": [
    {
      "cell_type": "markdown",
      "source": [
        "If the numbers to are written out in words: one, two, three, four, five, then there are 3 + 3 + 5 + 4 + 4 = 19 letters used in total.\n",
        "\n",
        "If all the numbers from 1 to 1000 (one thousand) inclusive were written out in words, how many letters would be used?\n",
        "\n",
        "\n",
        "NOTE: Do not count spaces or hyphens. For example, 342 (three hundred and forty-two) contains 23 letters and 115 (one hundred and fifteen contains 20 letters. The use of \"and\" when writing out numbers is in compliance with British usage.\n"
      ],
      "metadata": {
        "id": "PYYnKI6ayMvu"
      }
    },
    {
      "cell_type": "code",
      "execution_count": 6,
      "metadata": {
        "colab": {
          "base_uri": "https://localhost:8080/"
        },
        "id": "aglSLXSGxl-w",
        "outputId": "8f6d3230-8b48-4170-a8fd-25d2c52ad5b2"
      },
      "outputs": [
        {
          "output_type": "stream",
          "name": "stdout",
          "text": [
            "Total letters used: 21124\n"
          ]
        }
      ],
      "source": [
        "def number_to_words(n):\n",
        "    if n == 0:\n",
        "        return \"zero\"\n",
        "\n",
        "    ones = [\"\", \"one\", \"two\", \"three\", \"four\", \"five\", \"six\", \"seven\", \"eight\", \"nine\"]\n",
        "    teens = [\"\", \"eleven\", \"twelve\", \"thirteen\", \"fourteen\", \"fifteen\", \"sixteen\", \"seventeen\", \"eighteen\", \"nineteen\"]\n",
        "    tens = [\"\", \"ten\", \"twenty\", \"thirty\", \"forty\", \"fifty\", \"sixty\", \"seventy\", \"eighty\", \"ninety\"]\n",
        "    thousands = [\"\", \"thousand\"]\n",
        "\n",
        "    def one(n):\n",
        "        return ones[n]\n",
        "\n",
        "    def ten(n):\n",
        "        if n < 10:\n",
        "            return one(n)\n",
        "        elif 10 < n < 20:\n",
        "            return teens[n-10]\n",
        "        else:\n",
        "            return tens[n // 10] + (\" \" + one(n % 10) if n % 10 != 0 else \"\")\n",
        "\n",
        "    def hundred(n):\n",
        "        if n < 100:\n",
        "            return ten(n)\n",
        "        else:\n",
        "            return one(n // 100) + \" hundred\" + (\" and \" + ten(n % 100) if n % 100 != 0 else \"\")\n",
        "\n",
        "    def thousand(n):\n",
        "        if n < 1000:\n",
        "            return hundred(n)\n",
        "        else:\n",
        "            return one(n // 1000) + \" thousand\" + (\" \" + hundred(n % 1000) if n % 1000 != 0 else \"\")\n",
        "\n",
        "    return thousand(n)\n",
        "\n",
        "def letter_count_in_range(start, end):\n",
        "    return sum(len(number_to_words(i).replace(\" \", \"\")) for i in range(start, end + 1))\n",
        "\n",
        "total_letters = letter_count_in_range(1, 1000)\n",
        "print(f\"Total letters used: {total_letters}\")\n",
        "\n",
        "\n",
        "\n"
      ]
    },
    {
      "cell_type": "markdown",
      "source": [
        "7.There are several cards arranged in a row, and each card has an associated number of points. The points are given in the integer array cardPoints.\n",
        "\n",
        "In one step, you can take one card from the beginning or from the end of the row. You have to take exactly k cards.\n",
        "\n",
        "Your score is the sum of the points of the cards you have taken.\n",
        "\n",
        "Given the integer array cardPoints and the integer k, return the maximum score you can obtain.\n",
        "\n",
        "Example 1:\n",
        "Input: cardPoints = [1,2,3,4,5,6,1], k = 3\n",
        "Output: 12\n",
        "\n",
        "Example 2:\n",
        "Input: cardPoints = [2,2,2], k = 2\n",
        "Output: 4\n",
        "\n",
        "Example 3:\n",
        "Input: cardPoints = [9,7,7,9,7,7,9], k = 7\n",
        "Output: 55"
      ],
      "metadata": {
        "id": "YrV_xAbHy6Hv"
      }
    },
    {
      "cell_type": "code",
      "source": [
        "def max_score(cp, k):\n",
        "  n=len(cp)\n",
        "  max_score=sum(cp[:k])\n",
        "  curr_score = max_score\n",
        "  for i in range(1,k+1):\n",
        "    curr_score = curr_score - cp[k-i] + cp[-i]\n",
        "    max_score = max(max_score, curr_score)\n",
        "  return max_score\n",
        "\n",
        "test1=[1,2,3,4,5,6,1]\n",
        "k1 = 3\n",
        "test2=[2,2,2]\n",
        "k2=2\n",
        "test3=[9,7,7,9,7,7,9]\n",
        "k3=7\n",
        "r1=max_score(test1,k1)\n",
        "r2=max_score(test2,k2)\n",
        "r3=max_score(test3,k3)\n",
        "print(r1)\n",
        "print(r2)\n",
        "print(r3)"
      ],
      "metadata": {
        "colab": {
          "base_uri": "https://localhost:8080/"
        },
        "id": "GT_4bLMty5qD",
        "outputId": "9bb9c6da-709a-4309-9181-bccc009605bf"
      },
      "execution_count": 3,
      "outputs": [
        {
          "output_type": "stream",
          "name": "stdout",
          "text": [
            "12\n",
            "4\n",
            "55\n"
          ]
        }
      ]
    }
  ]
}